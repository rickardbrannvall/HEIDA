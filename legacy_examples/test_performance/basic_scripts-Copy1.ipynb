{
 "cells": [
  {
   "cell_type": "code",
   "execution_count": 3,
   "id": "a7e1ad23-201b-4faf-9917-d3b9fe6a7000",
   "metadata": {},
   "outputs": [],
   "source": [
    "import pandas as pd\n",
    "import numpy as np\n",
    "import matplotlib.pyplot as plt\n",
    "import datetime\n",
    "\n",
    "import subprocess\n",
    "from glob import glob\n"
   ]
  },
  {
   "cell_type": "markdown",
   "id": "bcf5ce2a-851e-45ef-a018-b71087da8b94",
   "metadata": {},
   "source": [
    "### Bootstrap number"
   ]
  },
  {
   "cell_type": "code",
   "execution_count": 8,
   "id": "3e8d71fd-3c14-4f4e-b6ad-0dcc6b1b43c4",
   "metadata": {},
   "outputs": [
    {
     "name": "stdout",
     "output_type": "stream",
     "text": [
      "\u001b[1;31mLoss of precision during bootstrap due to the rounding\u001b[0m: 1 bit(s) of precision lost over 6 bit(s) of message originally (6 bits are affected by the noise). Consider increasing the polynomial size of the RLWE secret key.\n",
      "keys/std_62_2048_1/sk0_LWE.json 6 7 -1 1 0.20000000000000018 7 9 N/A 95 1435493 6 0.19841299911941523 0.0000000000000000000000000048478727936573165 22 42\n",
      "\u001b[1;31mLoss of precision during bootstrap due to the rounding\u001b[0m: 1 bit(s) of precision lost over 6 bit(s) of message originally (6 bits are affected by the noise). Consider increasing the polynomial size of the RLWE secret key.\n",
      "keys/std_62_2048_1/sk0_LWE.json 6 7 -1 1 0.40000000000000013 7 9 N/A 101 1479732 6 0.39682500656630193 0.0000000000000000000000000048478727936573165 22 42\n",
      "\u001b[1;31mLoss of precision during bootstrap due to the rounding\u001b[0m: 1 bit(s) of precision lost over 6 bit(s) of message originally (6 bits are affected by the noise). Consider increasing the polynomial size of the RLWE secret key.\n",
      "keys/std_62_2048_1/sk0_LWE.json 6 7 -1 1 0.6000000000000001 7 9 N/A 95 1444044 6 0.5972215045069513 0.0000000000000000000000000048478727936573165 22 42\n",
      "\u001b[1;31mLoss of precision during bootstrap due to the rounding\u001b[0m: 1 bit(s) of precision lost over 6 bit(s) of message originally (6 bits are affected by the noise). Consider increasing the polynomial size of the RLWE secret key.\n",
      "keys/std_62_2048_1/sk0_LWE.json 6 7 -1 1 0.8 7 9 N/A 92 1451838 6 0.8095243594075976 0.0000000000000000000000000048478727936573165 22 42\n",
      "\u001b[1;31mLoss of precision during bootstrap due to the rounding\u001b[0m: 1 bit(s) of precision lost over 6 bit(s) of message originally (6 bits are affected by the noise). Consider increasing the polynomial size of the RLWE secret key.\n",
      "keys/std_62_2048_1/sk0_LWE.json 6 7 -1 1 1 7 9 N/A 86 1436325 6 0.9682539682539681 0.0000000000000000000000000048478727936573165 22 42\n"
     ]
    }
   ],
   "source": [
    "# target/release/boot_number keys/def_80_512_1 6 4 -1.0 1.0 0.5 4 3\n",
    "# target/release/boot_numbers keys/def_80_512_1 6 4 -1.0 1.0 10 4 3\n",
    "\n",
    "# boot_number sk_path prec padd lower upper value base_log level\n",
    "# boot_numbers2 sk_path prec padd lower upper times base_log level\n",
    "\n",
    "#cmd = \"./target/release/boot_number\"\n",
    "cmd = \"./target/release/boot_numbers2\"\n",
    "log = \"boot_numbers_2048a_log.txt\"\n",
    "\n",
    "#!rm $log\n",
    "\n",
    "#key_dirs = glob(\"keys/*\")\n",
    "#key_dirs = ['keys/def_80_256_1','keys/def_80_512_1','keys/def_80_1024_1','keys/std_62_2048_1']\n",
    "#key_dirs = ['keys/def_80_1024_1']\n",
    "key_dirs = ['keys/std_62_2048_1']\n",
    "\n",
    "\n",
    "lower = -1.0\n",
    "upper = 1.0\n",
    "\n",
    "times = 10\n",
    "\n",
    "for i in range(1):\n",
    "    for sk_path in key_dirs:\n",
    "        for padd in [1,2,3,4,5,6,7,8][::2]:\n",
    "            for prec in [1,2,3,4,5,6]:\n",
    "                for base_log in [3,4,5,6,7]:\n",
    "                    for level in [3,4,5,6,7,8,9]:\n",
    "                        #value = [0.0,0.5,-0.5,0.9,-0.9][i%5]\n",
    "                        if True: # exp2 + prec + padd < max_bits[sk_path]:\n",
    "                            cmd_line = f\"{cmd} {sk_path} {prec} {padd} {lower} {upper} {times} {base_log} {level} >> {log}\"\n",
    "                            #print(cmd_line)\n",
    "                            subprocess.getoutput(cmd_line)\n",
    "\n",
    "!tail $log\n"
   ]
  },
  {
   "cell_type": "code",
   "execution_count": 11,
   "id": "e5e6ee13-c3d0-4e27-a0a0-8c6d188a1e82",
   "metadata": {},
   "outputs": [
    {
     "data": {
      "text/plain": [
       "3"
      ]
     },
     "execution_count": 11,
     "metadata": {},
     "output_type": "execute_result"
    }
   ],
   "source": [
    "1+2"
   ]
  },
  {
   "cell_type": "code",
   "execution_count": 12,
   "id": "9f6d2e8d-263f-43c7-9ae8-97600886efaa",
   "metadata": {},
   "outputs": [
    {
     "name": "stdout",
     "output_type": "stream",
     "text": [
      "\u001b[1;31mLoss of precision during encrypt\u001b[0m: 8 bit(s) with 2 bit(s) of message originally. Consider increasing the dimension the reduce the amount of noise needed.\n",
      "keys/def_80_256_1/sk0_LWE.json 2 6 6 13 0.6071070175669971 7 9 2626294 664 N/A N/A N/A N/A N/A N/A 3 mul\n",
      "\u001b[1;31mLoss of precision during encrypt\u001b[0m: 8 bit(s) with 2 bit(s) of message originally. Consider increasing the dimension the reduce the amount of noise needed.\n",
      "keys/def_80_256_1/sk0_LWE.json 2 6 6 13 -0.9278609995986185 7 9 2626294 649 N/A N/A N/A N/A N/A N/A 4 mul\n",
      "\u001b[1;31mLoss of precision during encrypt\u001b[0m: 8 bit(s) with 2 bit(s) of message originally. Consider increasing the dimension the reduce the amount of noise needed.\n",
      "keys/def_80_256_1/sk0_LWE.json 2 6 6 13 0.6101144589363036 7 9 2626294 673 N/A N/A N/A N/A N/A N/A 5 mul\n",
      "\u001b[1;31mLoss of precision during encrypt\u001b[0m: 8 bit(s) with 2 bit(s) of message originally. Consider increasing the dimension the reduce the amount of noise needed.\n",
      "keys/def_80_256_1/sk0_LWE.json 2 6 6 13 -0.08786430304133079 7 9 2626294 674 N/A N/A N/A N/A N/A N/A 6 mul\n",
      "\u001b[1;31mLoss of precision during encrypt\u001b[0m: 8 bit(s) with 2 bit(s) of message originally. Consider increasing the dimension the reduce the amount of noise needed.\n",
      "keys/def_80_256_1/sk0_LWE.json 2 6 6 13 0.42107988985413114 7 9 2626294 664 N/A N/A N/A N/A N/A N/A 7 mul\n"
     ]
    }
   ],
   "source": [
    "\"\"\"\n",
    "// Bootstrap single neuron\n",
    "//\n",
    "// input: sk_path prec base_log level  \n",
    "// \n",
    "// example:\n",
    "// target/release/atan_neuron keys/def_80_512_1 2 5 5\n",
    "// \n",
    "// output: sk_path prec add_padd mul_padd out_padd value base_log level \n",
    "// load_time, enc_time, dot_time, dec_time, answer, v1, n1, s1, label\n",
    "\"\"\"\n",
    "\n",
    "cmd = \"./target/release/atan_neuron\"\n",
    "log = \"atan_neuron_256_log.txt\"\n",
    "\n",
    "#!rm $log\n",
    "\n",
    "#key_dirs = glob(\"keys/*\")\n",
    "#key_dirs = ['keys/def_80_256_1','keys/def_80_512_1','keys/def_80_1024_1','keys/std_62_2048_1']\n",
    "key_dirs = ['keys/def_80_256_1']\n",
    "\n",
    "prec = 2\n",
    "\n",
    "for sk_path in key_dirs:\n",
    "    for base_log in [3,4,5,6,7]:\n",
    "        for level in [3,4,5,6,7,8,9]:\n",
    "            cmd_line = f\"{cmd} {sk_path} {prec} {base_log} {level} >> {log}\"\n",
    "            #print(cmd_line)\n",
    "            subprocess.getoutput(cmd_line)\n",
    "\n",
    "!tail $log\n"
   ]
  },
  {
   "cell_type": "code",
   "execution_count": 13,
   "id": "c949921b-a9b9-4573-8bd9-5e0b8ad2b5be",
   "metadata": {},
   "outputs": [
    {
     "data": {
      "text/plain": [
       "3"
      ]
     },
     "execution_count": 13,
     "metadata": {},
     "output_type": "execute_result"
    }
   ],
   "source": [
    "1+2"
   ]
  },
  {
   "cell_type": "code",
   "execution_count": 14,
   "id": "fe2cbd45-05bc-49af-914a-be1791318971",
   "metadata": {},
   "outputs": [
    {
     "name": "stdout",
     "output_type": "stream",
     "text": [
      "keys/std_62_2048_1/sk0_LWE.json 6 6 2 3 2 3 N/A 0.9100000000000001 92 925094 6 0.9244791829827961 0.000000000000000037043574227396776 39 25 ok\n",
      "keys/std_62_2048_1/sk0_LWE.json 6 6 2 3 2 3 N/A 0.9199999999999999 92 900137 5 0.9322916739050566 0.000000000000000037043574227396776 39 25 ok\n",
      "keys/std_62_2048_1/sk0_LWE.json 6 6 2 3 2 3 N/A 0.9299999999999999 86 922750 6 0.9231770265928649 0.000000000000000037043574227396776 39 25 ok\n",
      "keys/std_62_2048_1/sk0_LWE.json 6 6 2 3 2 3 N/A 0.94 95 901475 6 0.9322916313475247 0.000000000000000037043574227396776 39 25 ok\n",
      "keys/std_62_2048_1/sk0_LWE.json 6 6 2 3 2 3 N/A 0.95 102 980341 6 0.9570311470115638 0.000000000000000037043574227396776 39 25 ok\n",
      "keys/std_62_2048_1/sk0_LWE.json 6 6 2 3 2 3 N/A 0.96 103 953314 5 0.9622395888806097 0.000000000000000037043574227396776 39 25 ok\n",
      "keys/std_62_2048_1/sk0_LWE.json 6 6 2 3 2 3 N/A 0.97 85 931534 6 0.962239696204501 0.000000000000000037043574227396776 39 25 ok\n",
      "keys/std_62_2048_1/sk0_LWE.json 6 6 2 3 2 3 N/A 0.98 96 960707 6 0.9804688869194074 0.000000000000000037043574227396776 39 25 ok\n",
      "keys/std_62_2048_1/sk0_LWE.json 6 6 2 3 2 3 N/A 0.99 92 948787 6 0.9726564008443876 0.000000000000000037043574227396776 39 25 ok\n",
      "keys/std_62_2048_1/sk0_LWE.json 6 6 2 3 2 3 N/A 1 92 935170 6 0.9999999510688333 0.000000000000000037043574227396776 39 25 ok\n"
     ]
    }
   ],
   "source": [
    "# target/release/boot_range keys/def_80_512_1 5 5\n",
    "\n",
    "#cmd = \"./target/release/boot_number\"\n",
    "cmd = \"./target/release/boot_range\"\n",
    "log = \"boot_range_2048a_log.txt\"\n",
    "\n",
    "#!rm $log\n",
    "\n",
    "#key_dirs = glob(\"keys/*\")\n",
    "#key_dirs = ['keys/def_80_256_1','keys/def_80_512_1','keys/def_80_1024_1','keys/std_62_2048_1']\n",
    "key_dirs = ['keys/std_62_2048_1']\n",
    "\n",
    "for sk_path in key_dirs:\n",
    "    for base_log in [4,5,6]:\n",
    "        for level in [4,6]:\n",
    "            cmd_line = f\"{cmd} {sk_path} {base_log} {level} >> {log}\"\n",
    "            subprocess.getoutput(cmd_line)\n",
    "\n",
    "!tail $log\n"
   ]
  },
  {
   "cell_type": "code",
   "execution_count": null,
   "id": "d12cbb65-a09b-4a71-91d8-9e49090d8e4d",
   "metadata": {},
   "outputs": [],
   "source": []
  },
  {
   "cell_type": "code",
   "execution_count": 15,
   "id": "60ade80c-413d-4b09-b9d9-489637a72736",
   "metadata": {},
   "outputs": [
    {
     "name": "stdout",
     "output_type": "stream",
     "text": [
      "keys/std_62_2048_1/sk0_LWE.json 6 7 2 1 2 6 N/A 0.9100000000000001 93 1153659 12 0.9153644773144549 0.00000000000000000000904384230731679 33 31 ok\n",
      "keys/std_62_2048_1/sk0_LWE.json 6 7 2 1 2 6 N/A 0.9199999999999999 108 1075845 5 0.9309896223621952 0.00000000000000000000904384230731679 33 31 ok\n",
      "keys/std_62_2048_1/sk0_LWE.json 6 7 2 1 2 6 N/A 0.9299999999999999 93 1081884 6 0.9322916530979815 0.00000000000000000000904384230731679 33 31 ok\n",
      "keys/std_62_2048_1/sk0_LWE.json 6 7 2 1 2 6 N/A 0.94 90 1083952 6 0.9778645080517756 0.00000000000000000000904384230731679 33 31 ok\n",
      "keys/std_62_2048_1/sk0_LWE.json 6 7 2 1 2 6 N/A 0.95 93 1066714 5 0.9765623856330117 0.00000000000000000000904384230731679 33 31 ok\n",
      "keys/std_62_2048_1/sk0_LWE.json 6 7 2 1 2 6 N/A 0.96 84 1067690 14 0.9817708023460245 0.00000000000000000000904384230731679 33 31 ok\n",
      "keys/std_62_2048_1/sk0_LWE.json 6 7 2 1 2 6 N/A 0.97 93 1054711 5 0.9531250247883016 0.00000000000000000000904384230731679 33 31 ok\n",
      "keys/std_62_2048_1/sk0_LWE.json 6 7 2 1 2 6 N/A 0.98 85 1055678 5 0.9817707470026704 0.00000000000000000000904384230731679 33 31 ok\n",
      "keys/std_62_2048_1/sk0_LWE.json 6 7 2 1 2 6 N/A 0.99 92 1086426 5 0.9999999913667068 0.00000000000000000000904384230731679 33 31 ok\n",
      "keys/std_62_2048_1/sk0_LWE.json 6 7 2 1 2 6 N/A 1 93 1091685 5 0.9999999001878639 0.00000000000000000000904384230731679 33 31 ok\n"
     ]
    }
   ],
   "source": [
    "# // input: sk_path base_log level in_prec in_padd out_prec times steps \n",
    "# // target/release/boot_ranges keys/def_80_512_1 5 5 2 2 2 5 200\n",
    "\n",
    "\n",
    "# target/release/boot_range keys/def_80_512_1 5 5\n",
    "\n",
    "#cmd = \"./target/release/boot_number\"\n",
    "cmd = \"./target/release/boot_ranges\"\n",
    "log = \"boot_ranges_2048a_log.txt\"\n",
    "\n",
    "#!rm $log\n",
    "\n",
    "#key_dirs = glob(\"keys/*\")\n",
    "#key_dirs = ['keys/def_80_256_1','keys/def_80_512_1','keys/def_80_1024_1','keys/std_62_2048_1']\n",
    "key_dirs = ['keys/std_62_2048_1']\n",
    "\n",
    "in_prec = 2\n",
    "in_padd = 1\n",
    "out_prec = 2\n",
    "\n",
    "for sk_path in key_dirs:\n",
    "    for base_log in [4,5,6]:\n",
    "        for level in [5,7]:\n",
    "            cmd_line = f\"{cmd} {sk_path} {base_log} {level} {in_prec} {in_padd} {out_prec} 5 200 >> {log}\"\n",
    "            subprocess.getoutput(cmd_line)\n",
    "\n",
    "!tail $log\n"
   ]
  },
  {
   "cell_type": "code",
   "execution_count": null,
   "id": "8163221d-a2af-452a-bcc6-96f2397aa838",
   "metadata": {},
   "outputs": [],
   "source": []
  }
 ],
 "metadata": {
  "kernelspec": {
   "display_name": "Python 3 (ipykernel)",
   "language": "python",
   "name": "python3"
  },
  "language_info": {
   "codemirror_mode": {
    "name": "ipython",
    "version": 3
   },
   "file_extension": ".py",
   "mimetype": "text/x-python",
   "name": "python",
   "nbconvert_exporter": "python",
   "pygments_lexer": "ipython3",
   "version": "3.10.8"
  }
 },
 "nbformat": 4,
 "nbformat_minor": 5
}
