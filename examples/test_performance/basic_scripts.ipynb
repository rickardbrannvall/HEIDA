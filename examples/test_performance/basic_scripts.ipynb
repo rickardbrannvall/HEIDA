{
 "cells": [
  {
   "cell_type": "code",
   "execution_count": 2,
   "id": "a7e1ad23-201b-4faf-9917-d3b9fe6a7000",
   "metadata": {},
   "outputs": [],
   "source": [
    "import pandas as pd\n",
    "import numpy as np\n",
    "import matplotlib.pyplot as plt\n",
    "import datetime\n",
    "\n",
    "import subprocess\n",
    "from glob import glob\n"
   ]
  },
  {
   "cell_type": "code",
   "execution_count": null,
   "id": "a53f4484-cc24-437c-9299-c880e55c9660",
   "metadata": {},
   "outputs": [],
   "source": []
  },
  {
   "cell_type": "markdown",
   "id": "b9b73af9-a8ea-4c48-9a87-be68f5b8d56f",
   "metadata": {},
   "source": [
    "## Create keys\n"
   ]
  },
  {
   "cell_type": "markdown",
   "id": "0b42361d-7c22-4911-bbb8-05665eb9e683",
   "metadata": {},
   "source": [
    "### Create secret keys"
   ]
  },
  {
   "cell_type": "code",
   "execution_count": 3,
   "id": "d80131d9-99f8-4d13-b917-105739bb2a65",
   "metadata": {},
   "outputs": [
    {
     "name": "stdout",
     "output_type": "stream",
     "text": [
      "./target/release/create_sk_keys 256 >> creat_sk_keys_log.txt\n",
      "./target/release/create_sk_keys 512 >> creat_sk_keys_log.txt\n",
      "./target/release/create_sk_keys 1024 >> creat_sk_keys_log.txt\n",
      "./target/release/create_sk_keys 2048 >> creat_sk_keys_log.txt\n",
      "create_rlwe_key keys/std_62_2048_1/sk0_RLWE.json 0 4\n",
      "create_lwe_key keys/std_62_2048_1/sk0_LWE.json 0 9\n",
      "create_rlwe_key keys/def_80_256_1/sk0_RLWE.json 0 5\n",
      "create_lwe_key keys/def_80_256_1/sk0_LWE.json 0 5\n",
      "create_rlwe_key keys/def_80_512_1/sk0_RLWE.json 0 4\n",
      "create_lwe_key keys/def_80_512_1/sk0_LWE.json 0 5\n",
      "create_rlwe_key keys/def_80_1024_1/sk0_RLWE.json 0 4\n",
      "create_lwe_key keys/def_80_1024_1/sk0_LWE.json 0 5\n",
      "create_rlwe_key keys/std_62_2048_1/sk0_RLWE.json 0 5\n",
      "create_lwe_key keys/std_62_2048_1/sk0_LWE.json 0 7\n"
     ]
    }
   ],
   "source": [
    "cmd = \"./target/release/create_sk_keys\"\n",
    "log = \"creat_sk_keys_log.txt\"\n",
    "\n",
    "#!rm $log\n",
    "\n",
    "for poly_size in [256, 512, 1024, 2048]:\n",
    "    cmd_line = \"%s %d >> %s\"%(cmd,poly_size,log)\n",
    "    print(cmd_line)\n",
    "    #subprocess.getoutput(cmd_line)\n",
    "\n",
    "!tail $log\n"
   ]
  },
  {
   "cell_type": "markdown",
   "id": "94999373-e484-4bc6-94ef-432be48c6698",
   "metadata": {},
   "source": [
    "### Create bootstrap keys"
   ]
  },
  {
   "cell_type": "code",
   "execution_count": 8,
   "id": "2b3198e7-eab8-4aad-b15b-3f05de7106ec",
   "metadata": {},
   "outputs": [
    {
     "name": "stdout",
     "output_type": "stream",
     "text": [
      "./target/release/create_bs_keys keys/def_80_1024_1 3 3 >> creat_bs_keys_log.txt\n",
      "./target/release/create_bs_keys keys/def_80_1024_1 3 4 >> creat_bs_keys_log.txt\n",
      "./target/release/create_bs_keys keys/def_80_1024_1 3 5 >> creat_bs_keys_log.txt\n",
      "./target/release/create_bs_keys keys/def_80_1024_1 3 6 >> creat_bs_keys_log.txt\n",
      "./target/release/create_bs_keys keys/def_80_1024_1 3 7 >> creat_bs_keys_log.txt\n",
      "./target/release/create_bs_keys keys/def_80_1024_1 3 8 >> creat_bs_keys_log.txt\n",
      "./target/release/create_bs_keys keys/def_80_1024_1 3 9 >> creat_bs_keys_log.txt\n",
      "./target/release/create_bs_keys keys/def_80_1024_1 4 3 >> creat_bs_keys_log.txt\n",
      "./target/release/create_bs_keys keys/def_80_1024_1 4 4 >> creat_bs_keys_log.txt\n",
      "./target/release/create_bs_keys keys/def_80_1024_1 4 5 >> creat_bs_keys_log.txt\n",
      "./target/release/create_bs_keys keys/def_80_1024_1 4 6 >> creat_bs_keys_log.txt\n",
      "./target/release/create_bs_keys keys/def_80_1024_1 4 7 >> creat_bs_keys_log.txt\n",
      "./target/release/create_bs_keys keys/def_80_1024_1 4 8 >> creat_bs_keys_log.txt\n",
      "./target/release/create_bs_keys keys/def_80_1024_1 4 9 >> creat_bs_keys_log.txt\n",
      "./target/release/create_bs_keys keys/def_80_1024_1 5 3 >> creat_bs_keys_log.txt\n",
      "./target/release/create_bs_keys keys/def_80_1024_1 5 4 >> creat_bs_keys_log.txt\n",
      "./target/release/create_bs_keys keys/def_80_1024_1 5 5 >> creat_bs_keys_log.txt\n",
      "./target/release/create_bs_keys keys/def_80_1024_1 5 6 >> creat_bs_keys_log.txt\n",
      "./target/release/create_bs_keys keys/def_80_1024_1 5 7 >> creat_bs_keys_log.txt\n",
      "./target/release/create_bs_keys keys/def_80_1024_1 5 8 >> creat_bs_keys_log.txt\n",
      "./target/release/create_bs_keys keys/def_80_1024_1 5 9 >> creat_bs_keys_log.txt\n",
      "./target/release/create_bs_keys keys/def_80_1024_1 6 3 >> creat_bs_keys_log.txt\n",
      "./target/release/create_bs_keys keys/def_80_1024_1 6 4 >> creat_bs_keys_log.txt\n",
      "./target/release/create_bs_keys keys/def_80_1024_1 6 5 >> creat_bs_keys_log.txt\n",
      "./target/release/create_bs_keys keys/def_80_1024_1 6 6 >> creat_bs_keys_log.txt\n",
      "./target/release/create_bs_keys keys/def_80_1024_1 6 7 >> creat_bs_keys_log.txt\n",
      "./target/release/create_bs_keys keys/def_80_1024_1 6 8 >> creat_bs_keys_log.txt\n",
      "./target/release/create_bs_keys keys/def_80_1024_1 6 9 >> creat_bs_keys_log.txt\n",
      "./target/release/create_bs_keys keys/def_80_1024_1 7 3 >> creat_bs_keys_log.txt\n",
      "./target/release/create_bs_keys keys/def_80_1024_1 7 4 >> creat_bs_keys_log.txt\n",
      "./target/release/create_bs_keys keys/def_80_1024_1 7 5 >> creat_bs_keys_log.txt\n",
      "./target/release/create_bs_keys keys/def_80_1024_1 7 6 >> creat_bs_keys_log.txt\n",
      "./target/release/create_bs_keys keys/def_80_1024_1 7 7 >> creat_bs_keys_log.txt\n",
      "./target/release/create_bs_keys keys/def_80_1024_1 7 8 >> creat_bs_keys_log.txt\n",
      "./target/release/create_bs_keys keys/def_80_1024_1 7 9 >> creat_bs_keys_log.txt\n",
      "# sk_path: keys/def_80_1024_1\n",
      "# base_log: 7\n",
      "# level: 9\n",
      "# Loading LWE key...\n",
      "load_lwe_key keys/def_80_1024_1/sk0_LWE.json 0\n",
      "# Loading RLWE key...\n",
      "load_rlwe_key keys/def_80_1024_1/sk0_RLWE.json 0\n",
      "# Creating bootstrap key 00 ...\n",
      "make_bs_key keys/def_80_1024_1/bsk00_7_9.json 77200\n",
      "save_bs_key keys/def_80_1024_1/bsk00_7_9.json 97402\n"
     ]
    }
   ],
   "source": [
    "cmd = \"./target/release/create_bs_keys\"\n",
    "log = \"creat_bs_keys_log.txt\"\n",
    "\n",
    "#!rm $log\n",
    "\n",
    "#key_dirs = glob(\"keys/*\")\n",
    "#key_dirs = ['keys/std_62_2048_1','keys/def_80_256_1','keys/def_80_512_1','keys/def_80_1024_1']\n",
    "key_dirs = ['keys/def_80_1024_1']\n",
    "\n",
    "\n",
    "for sk_path in key_dirs:\n",
    "  for base_log in [3,4,5,6,7]: # [5]:\n",
    "    for level in range(3,10): # [3]:\n",
    "      cmd_line = \"%s %s %d %d >> %s\"%(cmd,sk_path,base_log,level,log)\n",
    "      print(cmd_line)\n",
    "      subprocess.getoutput(cmd_line)\n",
    "\n",
    "!tail $log\n"
   ]
  },
  {
   "cell_type": "markdown",
   "id": "9999363a-ecab-4c57-80f5-322c0f23f5dc",
   "metadata": {},
   "source": [
    "### Addition tree"
   ]
  },
  {
   "cell_type": "code",
   "execution_count": 18,
   "id": "3c2a4983-7c02-4ca5-9138-f93d06f72bec",
   "metadata": {},
   "outputs": [],
   "source": [
    "max_bits = { \"keys/def_80_256_1\":7, \"keys/def_80_512_1\":17, \"keys/def_80_1024_1\":38, \"keys/std_62_2048_1\":60 }\n"
   ]
  },
  {
   "cell_type": "code",
   "execution_count": 25,
   "id": "48343b9c-6dfb-429f-a779-fdc18c3ced8c",
   "metadata": {},
   "outputs": [
    {
     "name": "stdout",
     "output_type": "stream",
     "text": [
      "keys/std_62_2048_1/sk0_LWE.json 55 5 -1 1 0 32 327 252 1549 12 0\n",
      "keys/std_62_2048_1/sk0_LWE.json 54 6 -1 1 0 64 320 123 1889 6 0\n",
      "keys/def_80_256_1/sk0_LWE.json 2 5 -1 1 0 32 119 38 306 3 -0.6536691756580808\n",
      "keys/def_80_256_1/sk0_LWE.json 1 6 -1 1 0 64 113 33 629 3 2.296842253562275\n",
      "keys/def_80_512_1/sk0_LWE.json 12 5 -1 1 0 32 145 67 445 3 -0.0005551665903134051\n",
      "keys/def_80_512_1/sk0_LWE.json 11 6 -1 1 0 64 147 61 886 4 0.0016767929573830997\n",
      "keys/def_80_1024_1/sk0_LWE.json 33 5 -1 1 0 32 205 130 813 7 0.0000000002547935196162143\n",
      "keys/def_80_1024_1/sk0_LWE.json 32 6 -1 1 0 64 205 118 1473 6 0.00000000029048408123344416\n",
      "keys/std_62_2048_1/sk0_LWE.json 55 5 -1 1 0 32 321 253 1514 12 0\n",
      "keys/std_62_2048_1/sk0_LWE.json 54 6 -1 1 0 64 330 126 1927 6 0\n"
     ]
    }
   ],
   "source": [
    "# add_number sk_path prec padd lower upper value times\n",
    "\n",
    "cmd = \"./target/release/add_number\"\n",
    "log = \"add_tree_log.txt\"\n",
    "\n",
    "#!rm $log\n",
    "\n",
    "#key_dirs = glob(\"keys/*\")\n",
    "key_dirs = ['keys/def_80_256_1','keys/def_80_512_1','keys/def_80_1024_1','keys/std_62_2048_1']\n",
    "#key_dirs = ['keys/def_80_256_1']\n",
    "\n",
    "lower = -1.0\n",
    "upper = 1.0\n",
    "value = 0.0\n",
    "\n",
    "for i in range(10):\n",
    "    for sk_path in key_dirs:\n",
    "        for times in [2,4,8,16,32,64][-2:]:\n",
    "            padd = int(np.log2(times))\n",
    "            prec = max_bits[sk_path] - padd\n",
    "            if prec > 0:\n",
    "                cmd_line = f\"{cmd} {sk_path} {prec} {padd} {lower} {upper} {value} {times} >> {log}\"\n",
    "                #print(cmd_line)\n",
    "                subprocess.getoutput(cmd_line)\n",
    "\n",
    "!tail $log\n"
   ]
  },
  {
   "cell_type": "markdown",
   "id": "07b8a022-6ff4-4def-a927-edfda2262624",
   "metadata": {},
   "source": [
    "## Integer multiplication tree"
   ]
  },
  {
   "cell_type": "code",
   "execution_count": 30,
   "id": "790a7f76-446c-458c-a70e-c32d31881c89",
   "metadata": {},
   "outputs": [
    {
     "name": "stdout",
     "output_type": "stream",
     "text": [
      "keys/def_80_1024_1/sk0_LWE.json 35 3 0 2 1 8 4 194 335 110 8 3.9999999999498783\n",
      "keys/def_80_1024_1/sk0_LWE.json 34 4 0 2 1 16 8 199 345 181 7 7.999999999939163\n",
      "keys/def_80_1024_1/sk0_LWE.json 33 5 0 2 1 32 16 184 317 281 7 16.000000000333483\n",
      "keys/def_80_1024_1/sk0_LWE.json 32 6 0 2 1 64 32 194 343 537 7 31.999999992407382\n",
      "keys/std_62_2048_1/sk0_LWE.json 59 1 0 2 1 2 1 317 662 82 14 1\n",
      "keys/std_62_2048_1/sk0_LWE.json 58 2 0 2 1 4 2 322 611 132 13 2\n",
      "keys/std_62_2048_1/sk0_LWE.json 57 3 0 2 1 8 4 334 560 210 12 4\n",
      "keys/std_62_2048_1/sk0_LWE.json 56 4 0 2 1 16 8 361 611 365 13 8\n",
      "keys/std_62_2048_1/sk0_LWE.json 55 5 0 2 1 32 16 286 545 555 12 16\n",
      "keys/std_62_2048_1/sk0_LWE.json 54 6 0 2 1 64 32 353 622 1085 13 32\n"
     ]
    }
   ],
   "source": [
    "# mul_integer sk_path prec padd lower upper value base2 mult\n",
    "\n",
    "cmd = \"./target/release/mul_integer\"\n",
    "log = \"mul_tree_log.txt\"\n",
    "\n",
    "#!rm $log\n",
    "\n",
    "#key_dirs = glob(\"keys/*\")\n",
    "key_dirs = ['keys/def_80_256_1','keys/def_80_512_1','keys/def_80_1024_1','keys/std_62_2048_1']\n",
    "#key_dirs = ['keys/def_80_256_1']\n",
    "\n",
    "lower = 0.0\n",
    "upper = 2.0\n",
    "value = 1.0\n",
    "\n",
    "for i in range(100):\n",
    "    for sk_path in key_dirs:\n",
    "        for base2 in [2,4,8,16,32,64][:]:\n",
    "            padd = int(np.log2(base2))\n",
    "            prec = max_bits[sk_path] - padd\n",
    "            if prec > 0:\n",
    "                cmd_line = f\"{cmd} {sk_path} {prec} {padd} {lower} {upper} {value} {base2} {base2//2} >> {log}\"\n",
    "                #print(cmd_line)\n",
    "                subprocess.getoutput(cmd_line)\n",
    "\n",
    "!tail $log\n"
   ]
  },
  {
   "cell_type": "markdown",
   "id": "d52a0489-ebc1-4e1c-b14b-732de4c37e6f",
   "metadata": {},
   "source": [
    "### Real number multiplication"
   ]
  },
  {
   "cell_type": "code",
   "execution_count": 35,
   "id": "00ff87de-fa53-41ed-adb5-33b96283758e",
   "metadata": {},
   "outputs": [
    {
     "name": "stdout",
     "output_type": "stream",
     "text": [
      "keys/std_62_2048_1/sk0_LWE.json 3 5 -1 1 0.5 5 16 317 322 44 11 2.5\n",
      "keys/std_62_2048_1/sk0_LWE.json 4 5 -1 1 0.5 5 16 316 338 41 11 2.5\n",
      "keys/std_62_2048_1/sk0_LWE.json 5 5 -1 1 0.5 5 16 378 333 43 11 2.5\n",
      "keys/std_62_2048_1/sk0_LWE.json 6 5 -1 1 0.5 5 16 288 297 39 10 2.54032258064516\n",
      "keys/std_62_2048_1/sk0_LWE.json 1 6 -1 1 0.5 5 16 316 334 41 11 2.5\n",
      "keys/std_62_2048_1/sk0_LWE.json 2 6 -1 1 0.5 5 16 312 365 43 11 2.5\n",
      "keys/std_62_2048_1/sk0_LWE.json 3 6 -1 1 0.5 5 16 287 296 41 10 2.5\n",
      "keys/std_62_2048_1/sk0_LWE.json 4 6 -1 1 0.5 5 16 317 323 45 11 2.5\n",
      "keys/std_62_2048_1/sk0_LWE.json 5 6 -1 1 0.5 5 16 318 325 45 11 2.5\n",
      "keys/std_62_2048_1/sk0_LWE.json 6 6 -1 1 0.5 5 16 479 385 44 11 2.5\n"
     ]
    }
   ],
   "source": [
    "# mul_number sk_path prec padd lower upper value mult max_mult\n",
    "\n",
    "cmd = \"./target/release/mul_number\"\n",
    "log = \"mul_real_log.txt\"\n",
    "\n",
    "#!rm $log\n",
    "\n",
    "#key_dirs = glob(\"keys/*\")\n",
    "key_dirs = ['keys/def_80_256_1','keys/def_80_512_1','keys/def_80_1024_1','keys/std_62_2048_1']\n",
    "#key_dirs = ['keys/def_80_256_1']\n",
    "\n",
    "lower = -1.0\n",
    "upper = 1.0\n",
    "value = 0.5\n",
    "\n",
    "mult = 5.0\n",
    "max_mult = 16\n",
    "\n",
    "for i in range(100):\n",
    "    for sk_path in key_dirs:\n",
    "        for padd in [1,2,3,4,5,6][:]:\n",
    "            for prec in [1,2,3,4,5,6][:]:\n",
    "                #prec = max_bits[sk_path] - padd\n",
    "                if prec + padd < max_bits[sk_path]:\n",
    "                    cmd_line = f\"{cmd} {sk_path} {prec} {padd} {lower} {upper} {value} {mult} {max_mult} >> {log}\"\n",
    "                    #print(cmd_line)\n",
    "                    subprocess.getoutput(cmd_line)\n",
    "\n",
    "!tail $log\n"
   ]
  },
  {
   "cell_type": "code",
   "execution_count": 32,
   "id": "ff018735-3120-409e-a75b-4f98f2ac806c",
   "metadata": {},
   "outputs": [
    {
     "data": {
      "text/plain": [
       "3"
      ]
     },
     "execution_count": 32,
     "metadata": {},
     "output_type": "execute_result"
    }
   ],
   "source": []
  },
  {
   "cell_type": "code",
   "execution_count": null,
   "id": "407c86e0-7f3d-40d4-aae5-299a572656f7",
   "metadata": {},
   "outputs": [],
   "source": []
  }
 ],
 "metadata": {
  "kernelspec": {
   "display_name": "Python 3 (ipykernel)",
   "language": "python",
   "name": "python3"
  },
  "language_info": {
   "codemirror_mode": {
    "name": "ipython",
    "version": 3
   },
   "file_extension": ".py",
   "mimetype": "text/x-python",
   "name": "python",
   "nbconvert_exporter": "python",
   "pygments_lexer": "ipython3",
   "version": "3.10.8"
  }
 },
 "nbformat": 4,
 "nbformat_minor": 5
}
