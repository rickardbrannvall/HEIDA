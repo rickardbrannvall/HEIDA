{
 "cells": [
  {
   "cell_type": "code",
   "execution_count": 1,
   "id": "58fe9f6c-6f38-479d-8e9b-4fdf63bcd62e",
   "metadata": {},
   "outputs": [],
   "source": [
    "import torch\n",
    "import tenseal as ts\n",
    "import pandas as pd\n",
    "import random\n",
    "from time import time\n",
    "\n",
    "# those are optional and are not necessary for training\n",
    "import numpy as np\n",
    "import matplotlib.pyplot as plt\n",
    "\n",
    "from torchmetrics.classification import BinaryAccuracy\n",
    "import subprocess\n",
    "\n"
   ]
  },
  {
   "cell_type": "code",
   "execution_count": 2,
   "id": "40203a66-2b22-4a92-a5df-8c97cc36df7d",
   "metadata": {},
   "outputs": [
    {
     "data": {
      "text/html": [
       "<div>\n",
       "<style scoped>\n",
       "    .dataframe tbody tr th:only-of-type {\n",
       "        vertical-align: middle;\n",
       "    }\n",
       "\n",
       "    .dataframe tbody tr th {\n",
       "        vertical-align: top;\n",
       "    }\n",
       "\n",
       "    .dataframe thead th {\n",
       "        text-align: right;\n",
       "    }\n",
       "</style>\n",
       "<table border=\"1\" class=\"dataframe\">\n",
       "  <thead>\n",
       "    <tr style=\"text-align: right;\">\n",
       "      <th></th>\n",
       "      <th>male</th>\n",
       "      <th>age</th>\n",
       "      <th>cigsPerDay</th>\n",
       "      <th>prevalentHyp</th>\n",
       "      <th>totChol</th>\n",
       "      <th>sysBP</th>\n",
       "      <th>heartRate</th>\n",
       "      <th>glucose</th>\n",
       "      <th>TenYearCHD</th>\n",
       "    </tr>\n",
       "  </thead>\n",
       "  <tbody>\n",
       "    <tr>\n",
       "      <th>521</th>\n",
       "      <td>1.057131</td>\n",
       "      <td>-1.116420</td>\n",
       "      <td>0.894010</td>\n",
       "      <td>-0.792487</td>\n",
       "      <td>0.053780</td>\n",
       "      <td>-0.758911</td>\n",
       "      <td>-0.622219</td>\n",
       "      <td>-0.309160</td>\n",
       "      <td>1</td>\n",
       "    </tr>\n",
       "    <tr>\n",
       "      <th>737</th>\n",
       "      <td>1.057131</td>\n",
       "      <td>-1.116420</td>\n",
       "      <td>0.894010</td>\n",
       "      <td>-0.792487</td>\n",
       "      <td>-0.312693</td>\n",
       "      <td>-1.083813</td>\n",
       "      <td>-0.869361</td>\n",
       "      <td>-0.216819</td>\n",
       "      <td>1</td>\n",
       "    </tr>\n",
       "    <tr>\n",
       "      <th>740</th>\n",
       "      <td>-0.945011</td>\n",
       "      <td>-0.538324</td>\n",
       "      <td>-0.756825</td>\n",
       "      <td>-0.792487</td>\n",
       "      <td>-0.198170</td>\n",
       "      <td>0.012732</td>\n",
       "      <td>-0.045556</td>\n",
       "      <td>-0.247599</td>\n",
       "      <td>1</td>\n",
       "    </tr>\n",
       "    <tr>\n",
       "      <th>660</th>\n",
       "      <td>-0.945011</td>\n",
       "      <td>1.311586</td>\n",
       "      <td>-0.756825</td>\n",
       "      <td>1.260588</td>\n",
       "      <td>1.542577</td>\n",
       "      <td>2.368274</td>\n",
       "      <td>-0.045556</td>\n",
       "      <td>0.090987</td>\n",
       "      <td>1</td>\n",
       "    </tr>\n",
       "    <tr>\n",
       "      <th>411</th>\n",
       "      <td>1.057131</td>\n",
       "      <td>-0.653943</td>\n",
       "      <td>0.894010</td>\n",
       "      <td>1.260588</td>\n",
       "      <td>0.328635</td>\n",
       "      <td>0.906213</td>\n",
       "      <td>-0.951741</td>\n",
       "      <td>-0.432283</td>\n",
       "      <td>0</td>\n",
       "    </tr>\n",
       "  </tbody>\n",
       "</table>\n",
       "</div>"
      ],
      "text/plain": [
       "         male       age  cigsPerDay  prevalentHyp   totChol     sysBP  \\\n",
       "521  1.057131 -1.116420    0.894010     -0.792487  0.053780 -0.758911   \n",
       "737  1.057131 -1.116420    0.894010     -0.792487 -0.312693 -1.083813   \n",
       "740 -0.945011 -0.538324   -0.756825     -0.792487 -0.198170  0.012732   \n",
       "660 -0.945011  1.311586   -0.756825      1.260588  1.542577  2.368274   \n",
       "411  1.057131 -0.653943    0.894010      1.260588  0.328635  0.906213   \n",
       "\n",
       "     heartRate   glucose  TenYearCHD  \n",
       "521  -0.622219 -0.309160           1  \n",
       "737  -0.869361 -0.216819           1  \n",
       "740  -0.045556 -0.247599           1  \n",
       "660  -0.045556  0.090987           1  \n",
       "411  -0.951741 -0.432283           0  "
      ]
     },
     "execution_count": 2,
     "metadata": {},
     "output_type": "execute_result"
    }
   ],
   "source": [
    "df = pd.read_csv(\"./data/myTenYearCHD_n1000.csv\", index_col=0).drop(columns=\"prevalentStroke\")\n",
    "df.head()\n"
   ]
  },
  {
   "cell_type": "code",
   "execution_count": 3,
   "id": "1aba53e0-a51b-40f4-82e3-d24f544e0c85",
   "metadata": {},
   "outputs": [
    {
     "data": {
      "text/html": [
       "<div>\n",
       "<style scoped>\n",
       "    .dataframe tbody tr th:only-of-type {\n",
       "        vertical-align: middle;\n",
       "    }\n",
       "\n",
       "    .dataframe tbody tr th {\n",
       "        vertical-align: top;\n",
       "    }\n",
       "\n",
       "    .dataframe thead th {\n",
       "        text-align: right;\n",
       "    }\n",
       "</style>\n",
       "<table border=\"1\" class=\"dataframe\">\n",
       "  <thead>\n",
       "    <tr style=\"text-align: right;\">\n",
       "      <th></th>\n",
       "      <th>male</th>\n",
       "      <th>age</th>\n",
       "      <th>cigsPerDay</th>\n",
       "      <th>prevalentHyp</th>\n",
       "      <th>totChol</th>\n",
       "      <th>sysBP</th>\n",
       "      <th>heartRate</th>\n",
       "      <th>glucose</th>\n",
       "    </tr>\n",
       "  </thead>\n",
       "  <tbody>\n",
       "    <tr>\n",
       "      <th>count</th>\n",
       "      <td>1000.00000</td>\n",
       "      <td>1.000000e+03</td>\n",
       "      <td>1000.000000</td>\n",
       "      <td>1000.000000</td>\n",
       "      <td>1000.000000</td>\n",
       "      <td>1000.000000</td>\n",
       "      <td>1000.000000</td>\n",
       "      <td>1000.000000</td>\n",
       "    </tr>\n",
       "    <tr>\n",
       "      <th>mean</th>\n",
       "      <td>-0.05600</td>\n",
       "      <td>-2.087500e-02</td>\n",
       "      <td>-0.575116</td>\n",
       "      <td>-0.228000</td>\n",
       "      <td>-0.135902</td>\n",
       "      <td>-0.296413</td>\n",
       "      <td>-0.190172</td>\n",
       "      <td>-0.718411</td>\n",
       "    </tr>\n",
       "    <tr>\n",
       "      <th>std</th>\n",
       "      <td>0.99893</td>\n",
       "      <td>5.388964e-01</td>\n",
       "      <td>0.557931</td>\n",
       "      <td>0.974148</td>\n",
       "      <td>0.422897</td>\n",
       "      <td>0.433207</td>\n",
       "      <td>0.407512</td>\n",
       "      <td>0.263727</td>\n",
       "    </tr>\n",
       "    <tr>\n",
       "      <th>min</th>\n",
       "      <td>-1.00000</td>\n",
       "      <td>-1.000000e+00</td>\n",
       "      <td>-1.000000</td>\n",
       "      <td>-1.000000</td>\n",
       "      <td>-1.000000</td>\n",
       "      <td>-1.000000</td>\n",
       "      <td>-1.000000</td>\n",
       "      <td>-1.000000</td>\n",
       "    </tr>\n",
       "    <tr>\n",
       "      <th>25%</th>\n",
       "      <td>-1.00000</td>\n",
       "      <td>-4.375000e-01</td>\n",
       "      <td>-1.000000</td>\n",
       "      <td>-1.000000</td>\n",
       "      <td>-0.430028</td>\n",
       "      <td>-0.616491</td>\n",
       "      <td>-0.482759</td>\n",
       "      <td>-0.840907</td>\n",
       "    </tr>\n",
       "    <tr>\n",
       "      <th>50%</th>\n",
       "      <td>-1.00000</td>\n",
       "      <td>2.220446e-16</td>\n",
       "      <td>-1.000000</td>\n",
       "      <td>-1.000000</td>\n",
       "      <td>-0.140043</td>\n",
       "      <td>-0.379080</td>\n",
       "      <td>-0.206897</td>\n",
       "      <td>-0.771304</td>\n",
       "    </tr>\n",
       "    <tr>\n",
       "      <th>75%</th>\n",
       "      <td>1.00000</td>\n",
       "      <td>4.375000e-01</td>\n",
       "      <td>-0.069767</td>\n",
       "      <td>1.000000</td>\n",
       "      <td>0.139943</td>\n",
       "      <td>-0.068621</td>\n",
       "      <td>0.034483</td>\n",
       "      <td>-0.681814</td>\n",
       "    </tr>\n",
       "    <tr>\n",
       "      <th>max</th>\n",
       "      <td>1.00000</td>\n",
       "      <td>1.000000e+00</td>\n",
       "      <td>1.000000</td>\n",
       "      <td>1.000000</td>\n",
       "      <td>1.000000</td>\n",
       "      <td>1.000000</td>\n",
       "      <td>1.000000</td>\n",
       "      <td>1.000000</td>\n",
       "    </tr>\n",
       "  </tbody>\n",
       "</table>\n",
       "</div>"
      ],
      "text/plain": [
       "             male           age   cigsPerDay  prevalentHyp      totChol  \\\n",
       "count  1000.00000  1.000000e+03  1000.000000   1000.000000  1000.000000   \n",
       "mean     -0.05600 -2.087500e-02    -0.575116     -0.228000    -0.135902   \n",
       "std       0.99893  5.388964e-01     0.557931      0.974148     0.422897   \n",
       "min      -1.00000 -1.000000e+00    -1.000000     -1.000000    -1.000000   \n",
       "25%      -1.00000 -4.375000e-01    -1.000000     -1.000000    -0.430028   \n",
       "50%      -1.00000  2.220446e-16    -1.000000     -1.000000    -0.140043   \n",
       "75%       1.00000  4.375000e-01    -0.069767      1.000000     0.139943   \n",
       "max       1.00000  1.000000e+00     1.000000      1.000000     1.000000   \n",
       "\n",
       "             sysBP    heartRate      glucose  \n",
       "count  1000.000000  1000.000000  1000.000000  \n",
       "mean     -0.296413    -0.190172    -0.718411  \n",
       "std       0.433207     0.407512     0.263727  \n",
       "min      -1.000000    -1.000000    -1.000000  \n",
       "25%      -0.616491    -0.482759    -0.840907  \n",
       "50%      -0.379080    -0.206897    -0.771304  \n",
       "75%      -0.068621     0.034483    -0.681814  \n",
       "max       1.000000     1.000000     1.000000  "
      ]
     },
     "execution_count": 3,
     "metadata": {},
     "output_type": "execute_result"
    }
   ],
   "source": [
    "X = df.iloc[:,:-1].copy()\n",
    "X0 = np.percentile(X,1, axis=0)\n",
    "X1 = np.percentile(X,99, axis=0)\n",
    "X = X.clip(X0,X1,axis=1)\n",
    "X = 2*(X-X.min())/(X.max()-X.min())-1\n",
    "X.describe()\n"
   ]
  },
  {
   "cell_type": "code",
   "execution_count": 4,
   "id": "40a8a87d-7e81-4313-a8e6-a53ff9f5fe12",
   "metadata": {},
   "outputs": [
    {
     "name": "stdout",
     "output_type": "stream",
     "text": [
      "X_trn has size: torch.Size([800, 8])\n",
      "Y_trn has size: torch.Size([800, 1])\n",
      "X_tst has size: torch.Size([200, 8])\n",
      "Y_tst has size: torch.Size([200, 1])\n",
      "n_features: 8\n"
     ]
    }
   ],
   "source": [
    "train_len = 800\n",
    "\n",
    "#X_trn = torch.tensor(df.iloc[:train_len,:-1].values).float()\n",
    "X_trn = torch.tensor(X.iloc[:train_len,:].values).float()\n",
    "Y_trn = torch.tensor(df.iloc[:train_len,-1:].values).float()\n",
    "#X_tst = torch.tensor(df.iloc[train_len:,:-1].values).float()\n",
    "X_tst = torch.tensor(X.iloc[train_len:,:].values).float()\n",
    "Y_tst = torch.tensor(df.iloc[train_len:,-1:].values).float()\n",
    "\n",
    "print(f\"X_trn has size: {X_trn.shape}\")\n",
    "print(f\"Y_trn has size: {Y_trn.shape}\")\n",
    "print(f\"X_tst has size: {X_tst.shape}\")\n",
    "print(f\"Y_tst has size: {Y_tst.shape}\")\n",
    "\n",
    "n_features = X_trn.shape[1]\n",
    "\n",
    "print(f\"n_features: {n_features}\")\n"
   ]
  },
  {
   "cell_type": "code",
   "execution_count": 5,
   "id": "e9d872e7-ba73-4ce9-ad96-54d86eb90b29",
   "metadata": {},
   "outputs": [],
   "source": [
    "np.savetxt(\"data/X_test.csv\", fmt='%.6f', X = X_tst.numpy(), delimiter=\",\")\n"
   ]
  },
  {
   "cell_type": "code",
   "execution_count": null,
   "id": "c008a5e5-68b2-4b99-bdd7-bb9f468a0e1a",
   "metadata": {},
   "outputs": [],
   "source": []
  },
  {
   "cell_type": "markdown",
   "id": "e5f52e05-2c52-4215-b8a6-6807f5015332",
   "metadata": {},
   "source": [
    "## Training a plain text model"
   ]
  },
  {
   "cell_type": "code",
   "execution_count": 6,
   "id": "d5026ba6-0094-408e-b2d4-883617bf5888",
   "metadata": {},
   "outputs": [],
   "source": [
    "class LR(torch.nn.Module):\n",
    "\n",
    "    def __init__(self, n_features):\n",
    "        super(LR, self).__init__()\n",
    "        self.lr = torch.nn.Linear(n_features, 1)\n",
    "        \n",
    "    def forward(self, x):\n",
    "        out = torch.sigmoid(self.lr(x))\n",
    "        return out\n",
    "    "
   ]
  },
  {
   "cell_type": "code",
   "execution_count": 7,
   "id": "6291c14e-8d86-4cb8-90a8-cec604e891de",
   "metadata": {},
   "outputs": [
    {
     "name": "stdout",
     "output_type": "stream",
     "text": [
      "Loss at epoch 1000: 0.5915659070014954\n",
      "Plain model accuracy on test set: 0.6899999976158142\n"
     ]
    }
   ],
   "source": [
    "n_epochs = 1000\n",
    "\n",
    "# use Binary Cross Entropy Loss\n",
    "criterion = torch.nn.BCELoss()\n",
    "\n",
    "def train_plain(n_epochs, verbose = True):\n",
    "    model = LR(n_features)\n",
    "    # use gradient descent with a learning_rate=1\n",
    "    optim = torch.optim.SGD(model.parameters(), lr=1)\n",
    "    for i in range(n_epochs):\n",
    "        optim.zero_grad()\n",
    "        out = model(X_trn)\n",
    "        loss = criterion(out, Y_trn)\n",
    "        if verbose:\n",
    "            print(f\"Loss at epoch {i}: {loss.data}\")\n",
    "        loss.backward()\n",
    "        optim.step()  \n",
    "    return model\n",
    "\n",
    "model00 = train_plain(n_epochs, False)\n",
    "\n",
    "out = model00(X_trn)\n",
    "loss = criterion(out, Y_trn)\n",
    "print(f\"Loss at epoch {n_epochs}: {loss.data}\")\n",
    "\n",
    "accuracy = BinaryAccuracy()\n",
    "\n",
    "plain_prediction = model00(X_tst)\n",
    "plain_accuracy = accuracy(plain_prediction,Y_tst)\n",
    "\n",
    "print(f\"Plain model accuracy on test set: {plain_accuracy}\")\n"
   ]
  },
  {
   "cell_type": "code",
   "execution_count": 8,
   "id": "d5119aa8-9ab0-443d-bc3f-3eaa9d525527",
   "metadata": {},
   "outputs": [
    {
     "data": {
      "text/plain": [
       "(array([[ 0.35881656,  1.0923964 ,  0.3184934 , -0.02589945,  0.463527  ,\n",
       "          1.0900129 ,  0.12632568,  0.82190657]], dtype=float32),\n",
       " array([1.2166978], dtype=float32))"
      ]
     },
     "execution_count": 8,
     "metadata": {},
     "output_type": "execute_result"
    }
   ],
   "source": [
    "#np.savetxt(\"params.csv\", fmt='%.6f', delimiter=\",\", \n",
    "#    X = np.concatenate([model00.lr.weight.data.numpy()[0],model00.lr.bias.data.numpy()])[None,:])\n",
    "\n",
    "model00.lr.weight.data.numpy(), model00.lr.bias.data.numpy()"
   ]
  },
  {
   "cell_type": "markdown",
   "id": "aa5c187a-da69-48e8-9803-eaf331953d93",
   "metadata": {},
   "source": [
    "## Analysis of encrypted evaluation"
   ]
  },
  {
   "cell_type": "code",
   "execution_count": 9,
   "id": "62a3590b-dd40-4e25-8eef-fe394d249dba",
   "metadata": {},
   "outputs": [],
   "source": [
    "keys = ['def_80_256_1','def_80_512_1','def_80_1024_1','std_62_2048_1']\n",
    "\n",
    "rmse = lambda x: (x**2).mean()**0.5\n"
   ]
  },
  {
   "cell_type": "code",
   "execution_count": 10,
   "id": "148aaf35-2267-42ea-9796-7fe118fe9b4e",
   "metadata": {},
   "outputs": [],
   "source": [
    "cmd = f\"target/debug/logres keys/def_80_512_1 2 8 -1.0 1.0\"\n",
    "\n",
    "out = subprocess.getoutput(cmd)\n"
   ]
  },
  {
   "cell_type": "code",
   "execution_count": 11,
   "id": "8434e0c0-d6e2-4f7e-8586-6e8ad5751349",
   "metadata": {},
   "outputs": [
    {
     "data": {
      "text/html": [
       "<div>\n",
       "<style scoped>\n",
       "    .dataframe tbody tr th:only-of-type {\n",
       "        vertical-align: middle;\n",
       "    }\n",
       "\n",
       "    .dataframe tbody tr th {\n",
       "        vertical-align: top;\n",
       "    }\n",
       "\n",
       "    .dataframe thead th {\n",
       "        text-align: right;\n",
       "    }\n",
       "</style>\n",
       "<table border=\"1\" class=\"dataframe\">\n",
       "  <thead>\n",
       "    <tr style=\"text-align: right;\">\n",
       "      <th></th>\n",
       "      <th>count</th>\n",
       "      <th>mean</th>\n",
       "      <th>std</th>\n",
       "      <th>min</th>\n",
       "      <th>25%</th>\n",
       "      <th>50%</th>\n",
       "      <th>75%</th>\n",
       "      <th>max</th>\n",
       "    </tr>\n",
       "  </thead>\n",
       "  <tbody>\n",
       "    <tr>\n",
       "      <th>diff</th>\n",
       "      <td>200.0</td>\n",
       "      <td>-0.000286</td>\n",
       "      <td>0.019801</td>\n",
       "      <td>-0.042326</td>\n",
       "      <td>-0.01298</td>\n",
       "      <td>-0.000474</td>\n",
       "      <td>0.011804</td>\n",
       "      <td>0.057482</td>\n",
       "    </tr>\n",
       "  </tbody>\n",
       "</table>\n",
       "</div>"
      ],
      "text/plain": [
       "      count      mean       std       min      25%       50%       75%  \\\n",
       "diff  200.0 -0.000286  0.019801 -0.042326 -0.01298 -0.000474  0.011804   \n",
       "\n",
       "           max  \n",
       "diff  0.057482  "
      ]
     },
     "execution_count": 11,
     "metadata": {},
     "output_type": "execute_result"
    }
   ],
   "source": [
    "def splitter(test):\n",
    "    tmp = test.split()\n",
    "    tst = tmp[0].split(\"/\")[1:2]\n",
    "    tst += tmp[1:]\n",
    "    return tst\n",
    "\n",
    "df = pd.DataFrame([splitter(line) for line in out.split(\"\\n\")], \n",
    "    columns=[\"key\", \"prec\", \"padd\", \"lower\", \"upper\", \"value\", \"answer\"]) \n",
    "df[\"answer\"] = df[\"answer\"].apply(float)\n",
    "df[\"value\"] = df[\"value\"].apply(float)\n",
    "df[\"diff\"] = df.answer - df.value\n",
    "\n",
    "df[[\"diff\"]].describe().T\n"
   ]
  },
  {
   "cell_type": "code",
   "execution_count": 12,
   "id": "d7c56051-13f1-497d-9b90-bb4de6f9b689",
   "metadata": {},
   "outputs": [
    {
     "name": "stdout",
     "output_type": "stream",
     "text": [
      "acc:  pred    0.69\n",
      "dtype: float64\n",
      "acc*:  pred*    0.69\n",
      "dtype: float64\n"
     ]
    }
   ],
   "source": [
    "df[\"pred\"] = (df[\"value\"]>0).apply(float)\n",
    "df[\"pred*\"] = (df[\"answer\"]>0).apply(float)\n",
    "\n",
    "print(\"acc: \", 1-(df[[\"pred\"]]-Y_tst.numpy()).abs().mean())\n",
    "print(\"acc*: \", 1-(df[[\"pred*\"]]-Y_tst.numpy()).abs().mean())"
   ]
  },
  {
   "cell_type": "code",
   "execution_count": null,
   "id": "719efe35-c69a-4488-87dd-e32fc8b4685e",
   "metadata": {},
   "outputs": [],
   "source": []
  }
 ],
 "metadata": {
  "kernelspec": {
   "display_name": "Python 3 (ipykernel)",
   "language": "python",
   "name": "python3"
  },
  "language_info": {
   "codemirror_mode": {
    "name": "ipython",
    "version": 3
   },
   "file_extension": ".py",
   "mimetype": "text/x-python",
   "name": "python",
   "nbconvert_exporter": "python",
   "pygments_lexer": "ipython3",
   "version": "3.10.8"
  }
 },
 "nbformat": 4,
 "nbformat_minor": 5
}
