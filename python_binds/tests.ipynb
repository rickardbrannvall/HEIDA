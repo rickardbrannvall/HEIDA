{
 "cells": [
  {
   "cell_type": "code",
   "execution_count": 1,
   "metadata": {},
   "outputs": [],
   "source": [
    "import target.release.libheida as hed"
   ]
  },
  {
   "cell_type": "code",
   "execution_count": 2,
   "metadata": {},
   "outputs": [],
   "source": [
    "ctx = hed.context.new(512, -19, 2048, -40, \"00001\")"
   ]
  },
  {
   "cell_type": "code",
   "execution_count": 3,
   "metadata": {},
   "outputs": [],
   "source": [
    "ctx = hed.context.load(\"00001\")"
   ]
  },
  {
   "cell_type": "code",
   "execution_count": 4,
   "metadata": {},
   "outputs": [
    {
     "name": "stdout",
     "output_type": "stream",
     "text": [
      "encryption dim: 256\n",
      "bootstrapping dim: 1024\n"
     ]
    }
   ],
   "source": [
    "ctx.print_dim()"
   ]
  },
  {
   "cell_type": "code",
   "execution_count": 5,
   "metadata": {},
   "outputs": [],
   "source": [
    "a = [i/10 for i in range(-10, 10, 2) ]"
   ]
  },
  {
   "cell_type": "code",
   "execution_count": 6,
   "metadata": {},
   "outputs": [
    {
     "name": "stdout",
     "output_type": "stream",
     "text": [
      "relu\n",
      "relu(-1) = 0\n",
      "relu(-0.8) = 0\n",
      "relu(-0.6) = 0\n",
      "relu(-0.4) = 0\n",
      "relu(-0.2) = 0\n",
      "relu(0) = 0\n",
      "relu(0.2) = 0.2\n",
      "relu(0.4) = 0.4\n",
      "relu(0.6) = 0.6\n",
      "relu(0.8) = 0.8\n"
     ]
    }
   ],
   "source": [
    "ctx.eval(\"relu\", a)"
   ]
  },
  {
   "cell_type": "code",
   "execution_count": 7,
   "metadata": {},
   "outputs": [
    {
     "name": "stdout",
     "output_type": "stream",
     "text": [
      "not-defined-function\n",
      "not-defined-function(-1) = 0\n",
      "not-defined-function(-0.8) = 0\n",
      "not-defined-function(-0.6) = 0\n",
      "not-defined-function(-0.4) = 0\n",
      "not-defined-function(-0.2) = 0\n",
      "not-defined-function(0) = 0\n",
      "not-defined-function(0.2) = 0\n",
      "not-defined-function(0.4) = 0\n",
      "not-defined-function(0.6) = 0\n",
      "not-defined-function(0.8) = 0\n"
     ]
    }
   ],
   "source": [
    "ctx.eval(\"not-defined-function\", a)"
   ]
  },
  {
   "cell_type": "code",
   "execution_count": 8,
   "metadata": {},
   "outputs": [
    {
     "name": "stdout",
     "output_type": "stream",
     "text": [
      "relu first\n",
      "\n",
      "relu(-1) = 0\n",
      "relu(-0.8) = 0\n",
      "relu(-0.6) = 0\n",
      "relu(-0.4) = 0\n",
      "relu(-0.2) = 0\n",
      "relu(0) = 0\n",
      "relu(0.2) = 0.2\n",
      "relu(0.4) = 0.4\n",
      "relu(0.6) = 0.6\n",
      "relu(0.8) = 0.8\n"
     ]
    }
   ],
   "source": [
    "def relu(x):\n",
    "    return max(x, 0.0)\n",
    "\n",
    "print(\"relu first\\n\")\n",
    "ctx.pyeval(relu, a)"
   ]
  },
  {
   "cell_type": "code",
   "execution_count": 9,
   "metadata": {},
   "outputs": [
    {
     "name": "stdout",
     "output_type": "stream",
     "text": [
      "then another function\n",
      "\n",
      "plus_one(-1) = 0\n",
      "plus_one(-0.8) = 0.19999999999999996\n",
      "plus_one(-0.6) = 0.4\n",
      "plus_one(-0.4) = 0.6\n",
      "plus_one(-0.2) = 0.8\n",
      "plus_one(0) = 1\n",
      "plus_one(0.2) = 1.2\n",
      "plus_one(0.4) = 1.4\n",
      "plus_one(0.6) = 1.6\n",
      "plus_one(0.8) = 1.8\n"
     ]
    }
   ],
   "source": [
    "def plus_one(x):\n",
    "    return x+1\n",
    "    \n",
    "print(\"then another function\\n\")\n",
    "ctx.pyeval(plus_one, a)\n"
   ]
  },
  {
   "cell_type": "code",
   "execution_count": 10,
   "metadata": {},
   "outputs": [
    {
     "name": "stdout",
     "output_type": "stream",
     "text": [
      "1.21 ms ± 2.76 µs per loop (mean ± std. dev. of 7 runs, 1,000 loops each)\n"
     ]
    }
   ],
   "source": [
    "n = 100\n",
    "a = [i/(n) for i in range(-n, n, 2) ]\n",
    "\n",
    "%timeit ctx.set_ctxt_test(a)"
   ]
  },
  {
   "cell_type": "code",
   "execution_count": 11,
   "metadata": {},
   "outputs": [
    {
     "name": "stdout",
     "output_type": "stream",
     "text": [
      "795 µs ± 4.13 µs per loop (mean ± std. dev. of 7 runs, 1,000 loops each)\n"
     ]
    }
   ],
   "source": [
    "%timeit ctx.encrypt_test(a)"
   ]
  },
  {
   "cell_type": "code",
   "execution_count": 12,
   "metadata": {},
   "outputs": [
    {
     "name": "stdout",
     "output_type": "stream",
     "text": [
      "339 µs ± 199 ns per loop (mean ± std. dev. of 7 runs, 1,000 loops each)\n",
      "596 µs ± 642 ns per loop (mean ± std. dev. of 7 runs, 1,000 loops each)\n"
     ]
    }
   ],
   "source": [
    "%timeit ctx.serialize_test()\n",
    "%timeit ctx.deserialize_test()"
   ]
  },
  {
   "cell_type": "code",
   "execution_count": 13,
   "metadata": {},
   "outputs": [
    {
     "name": "stdout",
     "output_type": "stream",
     "text": [
      "plaintext: relu([0.49999999996499334]) = 0.49999999996499334\n",
      "ciphertext: relu([0.49999999996499334]) = [0.41338610057886616]\n",
      "\n",
      "19.7 ms ± 33.5 µs per loop (mean ± std. dev. of 7 runs, 100 loops each)\n"
     ]
    }
   ],
   "source": [
    "ctx.set_ctxt_test([0.5])\n",
    "ctx.ctxt_eval_test(relu)\n",
    "\n",
    "%timeit ctx.ctxt_eval_bench(relu)"
   ]
  },
  {
   "cell_type": "code",
   "execution_count": null,
   "metadata": {},
   "outputs": [],
   "source": []
  }
 ],
 "metadata": {
  "kernelspec": {
   "display_name": "Python 3.8.10 64-bit",
   "language": "python",
   "name": "python3"
  },
  "language_info": {
   "codemirror_mode": {
    "name": "ipython",
    "version": 3
   },
   "file_extension": ".py",
   "mimetype": "text/x-python",
   "name": "python",
   "nbconvert_exporter": "python",
   "pygments_lexer": "ipython3",
   "version": "3.8.10"
  },
  "orig_nbformat": 4,
  "vscode": {
   "interpreter": {
    "hash": "31f2aee4e71d21fbe5cf8b01ff0e069b9275f58929596ceb00d14d90e3e16cd6"
   }
  }
 },
 "nbformat": 4,
 "nbformat_minor": 2
}
