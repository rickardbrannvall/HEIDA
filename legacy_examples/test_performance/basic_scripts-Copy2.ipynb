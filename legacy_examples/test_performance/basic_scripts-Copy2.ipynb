{
 "cells": [
  {
   "cell_type": "code",
   "execution_count": 1,
   "id": "a7e1ad23-201b-4faf-9917-d3b9fe6a7000",
   "metadata": {},
   "outputs": [],
   "source": [
    "import pandas as pd\n",
    "import numpy as np\n",
    "import matplotlib.pyplot as plt\n",
    "import datetime\n",
    "\n",
    "import subprocess\n",
    "from glob import glob\n"
   ]
  },
  {
   "cell_type": "markdown",
   "id": "bcf5ce2a-851e-45ef-a018-b71087da8b94",
   "metadata": {},
   "source": [
    "### Bootstrap number"
   ]
  },
  {
   "cell_type": "code",
   "execution_count": null,
   "id": "3e8d71fd-3c14-4f4e-b6ad-0dcc6b1b43c4",
   "metadata": {},
   "outputs": [],
   "source": [
    "# target/release/boot_number keys/def_80_512_1 6 4 -1.0 1.0 0.5 4 3\n",
    "# target/release/boot_numbers keys/def_80_512_1 6 4 -1.0 1.0 10 4 3\n",
    "\n",
    "# boot_number sk_path prec padd lower upper value base_log level\n",
    "# boot_numbers2 sk_path prec padd lower upper times base_log level\n",
    "\n",
    "#cmd = \"./target/release/boot_number\"\n",
    "cmd = \"./target/release/boot_numbers2\"\n",
    "#log = \"boot_numbers_512_log.txt\"\n",
    "#log = \"boot_numbers_256_log.txt\"\n",
    "log = \"boot_numbers_2048b_log.txt\"\n",
    "\n",
    "#!rm $log\n",
    "\n",
    "#key_dirs = glob(\"keys/*\")\n",
    "#key_dirs = ['keys/def_80_256_1','keys/def_80_512_1','keys/def_80_1024_1','keys/std_62_2048_1']\n",
    "#key_dirs = ['keys/def_80_512_1']\n",
    "#key_dirs = ['keys/def_80_256_1']\n",
    "key_dirs = ['keys/std_62_2048_1']\n",
    "\n",
    "lower = -1.0\n",
    "upper = 1.0\n",
    "\n",
    "times = 10\n",
    "\n",
    "for i in range(1):\n",
    "    for sk_path in key_dirs:\n",
    "        for padd in [1,2,3,4,5,6,7,8][1::2]:\n",
    "            for prec in [1,2,3,4,5,6]:\n",
    "                for base_log in [3,4,5,6,7]:\n",
    "                    for level in [3,4,5,6,7,8,9]:\n",
    "                        #value = [0.0,0.5,-0.5,0.9,-0.9][i%5]\n",
    "                        if True: # exp2 + prec + padd < max_bits[sk_path]:\n",
    "                            cmd_line = f\"{cmd} {sk_path} {prec} {padd} {lower} {upper} {times} {base_log} {level} >> {log}\"\n",
    "                            #print(cmd_line)\n",
    "                            subprocess.getoutput(cmd_line)\n",
    "\n",
    "!tail $log\n"
   ]
  },
  {
   "cell_type": "code",
   "execution_count": 9,
   "id": "e5e6ee13-c3d0-4e27-a0a0-8c6d188a1e82",
   "metadata": {},
   "outputs": [
    {
     "data": {
      "text/plain": [
       "3"
      ]
     },
     "execution_count": 9,
     "metadata": {},
     "output_type": "execute_result"
    }
   ],
   "source": [
    "1+2"
   ]
  },
  {
   "cell_type": "code",
   "execution_count": null,
   "id": "9f6d2e8d-263f-43c7-9ae8-97600886efaa",
   "metadata": {},
   "outputs": [],
   "source": [
    "# target/release/boot_range keys/def_80_512_1 5 5\n",
    "\n",
    "#cmd = \"./target/release/boot_number\"\n",
    "cmd = \"./target/release/boot_range\"\n",
    "log = \"boot_range_2048b_log.txt\"\n",
    "\n",
    "#!rm $log\n",
    "\n",
    "#key_dirs = glob(\"keys/*\")\n",
    "#key_dirs = ['keys/def_80_256_1','keys/def_80_512_1','keys/def_80_1024_1','keys/std_62_2048_1']\n",
    "key_dirs = ['keys/std_62_2048_1']\n",
    "\n",
    "for sk_path in key_dirs:\n",
    "    for base_log in [4,5,6]:\n",
    "        for level in [5,7]:\n",
    "            cmd_line = f\"{cmd} {sk_path} {base_log} {level} >> {log}\"\n",
    "            subprocess.getoutput(cmd_line)\n",
    "\n",
    "!tail $log\n",
    "\n"
   ]
  },
  {
   "cell_type": "code",
   "execution_count": null,
   "id": "172f6912-8ec8-4991-8fe6-09ab62138c61",
   "metadata": {},
   "outputs": [],
   "source": []
  },
  {
   "cell_type": "code",
   "execution_count": null,
   "id": "b651b641-8e2f-4588-b35c-1881775ec67d",
   "metadata": {},
   "outputs": [],
   "source": [
    "# // input: sk_path base_log level in_prec in_padd out_prec times steps \n",
    "# // target/release/boot_ranges keys/def_80_512_1 5 5 2 2 2 5 200\n",
    "\n",
    "\n",
    "# target/release/boot_range keys/def_80_512_1 5 5\n",
    "\n",
    "#cmd = \"./target/release/boot_number\"\n",
    "cmd = \"./target/release/boot_ranges\"\n",
    "log = \"boot_ranges_2048b_log.txt\"\n",
    "\n",
    "#!rm $log\n",
    "\n",
    "#key_dirs = glob(\"keys/*\")\n",
    "#key_dirs = ['keys/def_80_256_1','keys/def_80_512_1','keys/def_80_1024_1','keys/std_62_2048_1']\n",
    "key_dirs = ['keys/std_62_2048_1']\n",
    "\n",
    "in_prec = 2\n",
    "in_padd = 1\n",
    "out_prec = 2\n",
    "\n",
    "for sk_path in key_dirs:\n",
    "    for base_log in [4,5,6]:\n",
    "        for level in [4,6]:\n",
    "            cmd_line = f\"{cmd} {sk_path} {base_log} {level} {in_prec} {in_padd} {out_prec} 5 200 >> {log}\"\n",
    "            subprocess.getoutput(cmd_line)\n",
    "\n",
    "!tail $log\n",
    "\n"
   ]
  },
  {
   "cell_type": "code",
   "execution_count": null,
   "id": "fa62db02-bd71-4280-83c8-07c28713e026",
   "metadata": {},
   "outputs": [],
   "source": []
  }
 ],
 "metadata": {
  "kernelspec": {
   "display_name": "Python 3 (ipykernel)",
   "language": "python",
   "name": "python3"
  },
  "language_info": {
   "codemirror_mode": {
    "name": "ipython",
    "version": 3
   },
   "file_extension": ".py",
   "mimetype": "text/x-python",
   "name": "python",
   "nbconvert_exporter": "python",
   "pygments_lexer": "ipython3",
   "version": "3.10.8"
  }
 },
 "nbformat": 4,
 "nbformat_minor": 5
}
