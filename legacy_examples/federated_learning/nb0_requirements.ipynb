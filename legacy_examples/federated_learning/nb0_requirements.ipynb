{
 "cells": [
  {
   "cell_type": "code",
   "execution_count": 1,
   "id": "642967b8-b6cc-4fd4-b751-78808910cf3d",
   "metadata": {},
   "outputs": [],
   "source": [
    "#!pip install tenseal\n",
    "#!pip install torchmetrics\n",
    "#!pip install torchvision \n",
    "#!pip install medmnist\n",
    "#!pip install torchsummary"
   ]
  },
  {
   "cell_type": "code",
   "execution_count": null,
   "id": "5da33d55-1b73-4724-8c71-cc7f6335fe62",
   "metadata": {},
   "outputs": [],
   "source": [
    "#pip install --upgrade pip\n",
    "#pip install tenseal==0.3.4\n",
    "#pip install torch\n"
   ]
  },
  {
   "cell_type": "code",
   "execution_count": null,
   "id": "cd6562dc-8146-4b36-b598-dd06ea610054",
   "metadata": {},
   "outputs": [],
   "source": [
    "\"\"\"\n",
    "pip install --upgrade pip\n",
    "pip install tenseal\n",
    "pip install torch\n",
    "pip install torchmetrics\n",
    "pip install torchvision \n",
    "pip install torchsummary\n",
    "\"\"\""
   ]
  },
  {
   "cell_type": "code",
   "execution_count": null,
   "id": "54aad0f3-0cbd-460e-9023-f8d743e838ff",
   "metadata": {},
   "outputs": [],
   "source": []
  }
 ],
 "metadata": {
  "kernelspec": {
   "display_name": "Python 3 (ipykernel)",
   "language": "python",
   "name": "python3"
  },
  "language_info": {
   "codemirror_mode": {
    "name": "ipython",
    "version": 3
   },
   "file_extension": ".py",
   "mimetype": "text/x-python",
   "name": "python",
   "nbconvert_exporter": "python",
   "pygments_lexer": "ipython3",
   "version": "3.10.8"
  }
 },
 "nbformat": 4,
 "nbformat_minor": 5
}
