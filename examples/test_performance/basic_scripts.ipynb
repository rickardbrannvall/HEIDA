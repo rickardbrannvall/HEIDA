{
 "cells": [
  {
   "cell_type": "code",
   "execution_count": 2,
   "id": "a7e1ad23-201b-4faf-9917-d3b9fe6a7000",
   "metadata": {},
   "outputs": [],
   "source": [
    "import pandas as pd\n",
    "import numpy as np\n",
    "import matplotlib.pyplot as plt\n",
    "import datetime\n",
    "\n",
    "import subprocess\n",
    "from glob import glob\n"
   ]
  },
  {
   "cell_type": "markdown",
   "id": "b9b73af9-a8ea-4c48-9a87-be68f5b8d56f",
   "metadata": {},
   "source": [
    "## Create keys\n"
   ]
  },
  {
   "cell_type": "markdown",
   "id": "0b42361d-7c22-4911-bbb8-05665eb9e683",
   "metadata": {},
   "source": [
    "### Create secret keys"
   ]
  },
  {
   "cell_type": "code",
   "execution_count": 3,
   "id": "d80131d9-99f8-4d13-b917-105739bb2a65",
   "metadata": {},
   "outputs": [
    {
     "name": "stdout",
     "output_type": "stream",
     "text": [
      "./target/release/create_sk_keys 256 >> creat_sk_keys_log.txt\n",
      "./target/release/create_sk_keys 512 >> creat_sk_keys_log.txt\n",
      "./target/release/create_sk_keys 1024 >> creat_sk_keys_log.txt\n",
      "./target/release/create_sk_keys 2048 >> creat_sk_keys_log.txt\n",
      "create_rlwe_key keys/std_62_2048_1/sk0_RLWE.json 0 4\n",
      "create_lwe_key keys/std_62_2048_1/sk0_LWE.json 0 9\n",
      "create_rlwe_key keys/def_80_256_1/sk0_RLWE.json 0 5\n",
      "create_lwe_key keys/def_80_256_1/sk0_LWE.json 0 5\n",
      "create_rlwe_key keys/def_80_512_1/sk0_RLWE.json 0 4\n",
      "create_lwe_key keys/def_80_512_1/sk0_LWE.json 0 5\n",
      "create_rlwe_key keys/def_80_1024_1/sk0_RLWE.json 0 4\n",
      "create_lwe_key keys/def_80_1024_1/sk0_LWE.json 0 5\n",
      "create_rlwe_key keys/std_62_2048_1/sk0_RLWE.json 0 5\n",
      "create_lwe_key keys/std_62_2048_1/sk0_LWE.json 0 7\n"
     ]
    }
   ],
   "source": [
    "cmd = \"./target/release/create_sk_keys\"\n",
    "log = \"creat_sk_keys_log.txt\"\n",
    "\n",
    "#!rm $log\n",
    "\n",
    "for poly_size in [256, 512, 1024, 2048]:\n",
    "    cmd_line = \"%s %d >> %s\"%(cmd,poly_size,log)\n",
    "    print(cmd_line)\n",
    "    #subprocess.getoutput(cmd_line)\n",
    "\n",
    "!tail $log\n"
   ]
  },
  {
   "cell_type": "markdown",
   "id": "94999373-e484-4bc6-94ef-432be48c6698",
   "metadata": {},
   "source": [
    "### Create bootstrap keys"
   ]
  },
  {
   "cell_type": "code",
   "execution_count": null,
   "id": "2b3198e7-eab8-4aad-b15b-3f05de7106ec",
   "metadata": {},
   "outputs": [
    {
     "name": "stdout",
     "output_type": "stream",
     "text": [
      "./target/release/create_bs_keys keys/std_62_2048_1 3 3 >> creat_bs_keys_log.txt\n",
      "./target/release/create_bs_keys keys/std_62_2048_1 3 4 >> creat_bs_keys_log.txt\n",
      "./target/release/create_bs_keys keys/std_62_2048_1 3 5 >> creat_bs_keys_log.txt\n",
      "./target/release/create_bs_keys keys/std_62_2048_1 3 6 >> creat_bs_keys_log.txt\n",
      "./target/release/create_bs_keys keys/std_62_2048_1 3 7 >> creat_bs_keys_log.txt\n",
      "./target/release/create_bs_keys keys/std_62_2048_1 3 8 >> creat_bs_keys_log.txt\n",
      "./target/release/create_bs_keys keys/std_62_2048_1 3 9 >> creat_bs_keys_log.txt\n",
      "./target/release/create_bs_keys keys/std_62_2048_1 4 3 >> creat_bs_keys_log.txt\n",
      "./target/release/create_bs_keys keys/std_62_2048_1 4 4 >> creat_bs_keys_log.txt\n",
      "./target/release/create_bs_keys keys/std_62_2048_1 4 5 >> creat_bs_keys_log.txt\n",
      "./target/release/create_bs_keys keys/std_62_2048_1 4 6 >> creat_bs_keys_log.txt\n"
     ]
    }
   ],
   "source": [
    "cmd = \"./target/release/create_bs_keys\"\n",
    "log = \"creat_bs_keys_log.txt\"\n",
    "\n",
    "#!rm $log\n",
    "\n",
    "key_dirs = glob(\"keys/*\")\n",
    "\n",
    "for sk_path in key_dirs[:1]:\n",
    "  for base_log in [3,4,5,6,7]: # [5]:\n",
    "    for level in range(3,10): # [3]:\n",
    "      cmd_line = \"%s %s %d %d >> %s\"%(cmd,sk_path,base_log,level,log)\n",
    "      print(cmd_line)\n",
    "      subprocess.getoutput(cmd_line)\n",
    "\n",
    "!tail $log\n"
   ]
  },
  {
   "cell_type": "code",
   "execution_count": null,
   "id": "7c18f440-68cf-40fc-ab3a-d3343f9d8468",
   "metadata": {},
   "outputs": [],
   "source": []
  }
 ],
 "metadata": {
  "kernelspec": {
   "display_name": "Python 3 (ipykernel)",
   "language": "python",
   "name": "python3"
  },
  "language_info": {
   "codemirror_mode": {
    "name": "ipython",
    "version": 3
   },
   "file_extension": ".py",
   "mimetype": "text/x-python",
   "name": "python",
   "nbconvert_exporter": "python",
   "pygments_lexer": "ipython3",
   "version": "3.10.8"
  }
 },
 "nbformat": 4,
 "nbformat_minor": 5
}
