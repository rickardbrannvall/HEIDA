{
 "cells": [
  {
   "cell_type": "markdown",
   "id": "d4e583e7-6d3f-4fca-9523-d5f816365ca1",
   "metadata": {},
   "source": [
    "### Use case example: Federated Analysis\n",
    "\n",
    "As a clinical researcher, Alice wants to know if a specific treatment for a certain disease is effective.\n",
    "\n",
    "Background: Alice has 12 patients with the diagnosis, of which 7 have received a specific treatment. We assume that the effect of the treatment is indicated by the lab value X. The mean values of X for both cohorts indicate that the treatment has an effect, but there is no statistical significance due to the small number of patients. \n",
    "\n",
    "Alice’s has searched for other sources of data and discovered that it is spread out over a network of edge nodes that support federated analysis through secure multiparty computation. Spread across all nodes there are a total of 1298 patients with the same diagnosis, of which 357 have received the specific treatment. By using more data, she can increase the statistical significance as the number of patients increases. The problem is that to protect the privacy of the people in the distributed database, Alice cannot simply download the data sets to her own computer and perform the analysis.\n",
    "\n",
    "Challenge: The data that Alice needs is spread across multiple sources and there is no possibility of central collection due to privacy protection legislation. Even partial results from the analysis must be hidden from all parties, including Alice."
   ]
  },
  {
   "cell_type": "markdown",
   "id": "63f6f70f-7f18-4388-b215-2e5f8ca9802b",
   "metadata": {},
   "source": [
    "### Notation\n",
    "\n",
    "Let's assume that there are $K$ edge nodes in the federated network. For the cohorts available at node $k$, we assume that $N_{1,k}$ patients have recieved the treatment, and that $N_{0,k}$ are untreated. For each patient $i$ at node $k$ we denote the measured lab value by $X_{i,k}$ and the treatment status by $Y_{i,k}$.\n",
    "\n",
    "Alice wants to know the global average and variance for both cohorts so that she examine the hypothesis that the treatment is effective with statistical significans. That is, she wants to calculate, \n",
    "\n",
    "$$\n",
    "\\mu_0 = \\mathrm{mean}(X|Y=0),\\quad \\sigma_0^2 = \\mathrm{var}(X|Y=0) \n",
    "$$\n",
    "$$\n",
    "\\mu_1 = \\mathrm{mean}(X|Y=1),\\quad \\sigma_1^2 = \\mathrm{var}(X|Y=1) \n",
    "$$\n",
    "\n",
    "that is, the global mean and variance for each kohort, by using secure multiparty computation based on homomorphic encryption.\n"
   ]
  },
  {
   "cell_type": "code",
   "execution_count": null,
   "id": "7318098e-1491-4d4e-851c-ac030b17eed3",
   "metadata": {},
   "outputs": [],
   "source": []
  },
  {
   "cell_type": "code",
   "execution_count": null,
   "id": "e44265ab-fb69-4587-ab7d-2777128f9a4e",
   "metadata": {},
   "outputs": [],
   "source": []
  }
 ],
 "metadata": {
  "kernelspec": {
   "display_name": "Python 3 (ipykernel)",
   "language": "python",
   "name": "python3"
  },
  "language_info": {
   "codemirror_mode": {
    "name": "ipython",
    "version": 3
   },
   "file_extension": ".py",
   "mimetype": "text/x-python",
   "name": "python",
   "nbconvert_exporter": "python",
   "pygments_lexer": "ipython3",
   "version": "3.11.0rc1"
  }
 },
 "nbformat": 4,
 "nbformat_minor": 5
}
