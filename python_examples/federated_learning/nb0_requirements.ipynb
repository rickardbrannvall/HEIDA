{
 "cells": [
  {
   "cell_type": "code",
   "execution_count": null,
   "id": "5da33d55-1b73-4724-8c71-cc7f6335fe62",
   "metadata": {},
   "outputs": [],
   "source": [
    "!pip install --upgrade pip\n"
   ]
  },
  {
   "cell_type": "code",
   "execution_count": null,
   "id": "7b20c3f3-e32c-4247-913b-d345edc16cbb",
   "metadata": {},
   "outputs": [],
   "source": [
    "!pip install pandas\n"
   ]
  },
  {
   "cell_type": "code",
   "execution_count": null,
   "id": "cee00f0c-2265-4718-9536-5a4cbc120283",
   "metadata": {},
   "outputs": [],
   "source": [
    "!pip install tenseal\n"
   ]
  },
  {
   "cell_type": "code",
   "execution_count": null,
   "id": "fdf6cfae-711f-4364-a7a5-e64fc7805946",
   "metadata": {},
   "outputs": [],
   "source": [
    "!pip install torch\n",
    "!pip install torchmetrics\n",
    "!pip install torchvision \n",
    "!pip install torchsummary\n"
   ]
  },
  {
   "cell_type": "code",
   "execution_count": null,
   "id": "10aecfb4-c737-418a-a8a9-4c572e4df3e0",
   "metadata": {},
   "outputs": [],
   "source": [
    "!pip install medmnist\n",
    "!pip install ipywidgets\n"
   ]
  },
  {
   "cell_type": "code",
   "execution_count": null,
   "id": "e5db897e-7da1-4b48-b6b9-1a73f8954d6e",
   "metadata": {},
   "outputs": [],
   "source": []
  }
 ],
 "metadata": {
  "kernelspec": {
   "display_name": "Python 3 (ipykernel)",
   "language": "python",
   "name": "python3"
  },
  "language_info": {
   "codemirror_mode": {
    "name": "ipython",
    "version": 3
   },
   "file_extension": ".py",
   "mimetype": "text/x-python",
   "name": "python",
   "nbconvert_exporter": "python",
   "pygments_lexer": "ipython3",
   "version": "3.8.10"
  }
 },
 "nbformat": 4,
 "nbformat_minor": 5
}
