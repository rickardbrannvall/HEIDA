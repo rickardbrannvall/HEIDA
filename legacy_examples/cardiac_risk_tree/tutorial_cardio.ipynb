{
 "cells": [
  {
   "cell_type": "markdown",
   "metadata": {},
   "source": [
    "# Cardio risk check"
   ]
  },
  {
   "cell_type": "markdown",
   "metadata": {},
   "source": [
    "## In this notebook we will work through the example of Cardiovascular risk assesment. More precisely we will get an understanding of this example by assessing the cardiovascular risk of plaintext data ( non-encryptred data ) which then gives understanding of how the encrypted case works. "
   ]
  },
  {
   "cell_type": "markdown",
   "metadata": {},
   "source": [
    "#### The encryped case is located in src/bin/cardio.rs, and starts at line 254. It can be executed by running \"cargo run --release --bin cardio\" when inside the \"cardiac_risk_tree\" folder"
   ]
  },
  {
   "cell_type": "markdown",
   "metadata": {},
   "source": [
    "# First we need some data"
   ]
  },
  {
   "cell_type": "markdown",
   "metadata": {},
   "source": [
    "#### This data contains small features, such as; [gender, smoking habit, diabetic, blood pressure, and alcohol consumtion]"
   ]
  },
  {
   "cell_type": "code",
   "execution_count": 1,
   "metadata": {},
   "outputs": [],
   "source": [
    "# man:0, smoking:1, diabetic:2, high_blood_pressure:3, alco:4\n",
    "small = [1., 0., 0., 0., 2.]"
   ]
  },
  {
   "cell_type": "markdown",
   "metadata": {},
   "source": [
    "#### ... and large features;  [age, HDL cholesterol, weight, height, gender]"
   ]
  },
  {
   "cell_type": "code",
   "execution_count": 2,
   "metadata": {},
   "outputs": [],
   "source": [
    "# age:0, HDL_chol:1, weight:2, height:3, exercise:4, man: 5\n",
    "large = [46., 50., 60., 173., 50., 1.]"
   ]
  },
  {
   "cell_type": "markdown",
   "metadata": {},
   "source": [
    "# Here we will just use these values but in the encrypted case we would encrypt the data here.\n",
    "\n",
    "## Instead we will continue by assessing each feature and evaluating them with the corresponding methods and storing them in a vector y"
   ]
  },
  {
   "cell_type": "code",
   "execution_count": 3,
   "metadata": {},
   "outputs": [],
   "source": [
    "y = []"
   ]
  },
  {
   "cell_type": "code",
   "execution_count": 4,
   "metadata": {},
   "outputs": [],
   "source": [
    "## ---- AGE CHECK ----##\n",
    "def age_fun(x):\n",
    "    if x > 60.0:\n",
    "        return 1\n",
    "    else:\n",
    "        return 0\n",
    "    \n",
    "age = large[0]\n",
    "age += large[5]*10\n",
    "\n",
    "output = age_fun(age)\n",
    "\n",
    "y.append(output)"
   ]
  },
  {
   "cell_type": "code",
   "execution_count": 5,
   "metadata": {},
   "outputs": [],
   "source": [
    "## ---- HDL CHOLESTEROL CHECK ----##\n",
    "def hdl_fun(x):\n",
    "    if x < 40.0:\n",
    "        return 1\n",
    "    else:\n",
    "        return 0\n",
    "\n",
    "hdl = large[1]\n",
    "\n",
    "output = hdl_fun(hdl)\n",
    "y.append(output)"
   ]
  },
  {
   "cell_type": "code",
   "execution_count": 6,
   "metadata": {},
   "outputs": [],
   "source": [
    "## ---- WEIGHT CHECK ----##\n",
    "def weight_fun(x):\n",
    "    if x < 90.0:\n",
    "        return 1\n",
    "    else:\n",
    "        return 0\n",
    "\n",
    "weight = large[2]\n",
    "height = large[3]\n",
    "\n",
    "output = weight_fun( height - weight )\n",
    "y.append(output)"
   ]
  },
  {
   "cell_type": "code",
   "execution_count": null,
   "metadata": {},
   "outputs": [],
   "source": [
    "## ---- PHYSICAL ACTIVITY CHECK ----##\n",
    "def activity_fun(x):\n",
    "    if x < 30.0:\n",
    "        return 1\n",
    "    else:\n",
    "        return 0\n",
    "\n",
    "exercise = large[4]\n",
    "        \n",
    "output = activity_fun(exercise)\n",
    "y.append(output)"
   ]
  },
  {
   "cell_type": "code",
   "execution_count": 8,
   "metadata": {},
   "outputs": [],
   "source": [
    "## ---- ALCOHOL CHECK ----##\n",
    "def alcohol_fun(x):\n",
    "    if x > 3.0:\n",
    "        return 1\n",
    "    else:\n",
    "        return 0\n",
    "\n",
    "alcohol = small[4] + 1\n",
    "gender = small[0]\n",
    "\n",
    "output = alcohol_fun( alcohol - gender )\n",
    "y.append(output)"
   ]
  },
  {
   "cell_type": "code",
   "execution_count": 9,
   "metadata": {},
   "outputs": [],
   "source": [
    "## ---- SMOKING ----##\n",
    "y.append(small[1])"
   ]
  },
  {
   "cell_type": "code",
   "execution_count": 10,
   "metadata": {},
   "outputs": [],
   "source": [
    "## ---- DIABETIC ----##\n",
    "y.append(small[2])"
   ]
  },
  {
   "cell_type": "code",
   "execution_count": 11,
   "metadata": {},
   "outputs": [],
   "source": [
    "## ---- BLOOD PREASURE ----##\n",
    "y.append(small[3])"
   ]
  },
  {
   "cell_type": "markdown",
   "metadata": {},
   "source": [
    "# With all features examined and calculated we now calculate the final risk score!"
   ]
  },
  {
   "cell_type": "code",
   "execution_count": 12,
   "metadata": {},
   "outputs": [
    {
     "name": "stdout",
     "output_type": "stream",
     "text": [
      "Cardiovascular risk score: 0.0\n"
     ]
    }
   ],
   "source": [
    "score = sum(y)\n",
    "\n",
    "print(f\"Cardiovascular risk score: {score}\")"
   ]
  },
  {
   "cell_type": "markdown",
   "metadata": {},
   "source": [
    " "
   ]
  },
  {
   "cell_type": "markdown",
   "metadata": {},
   "source": [
    " "
   ]
  },
  {
   "cell_type": "markdown",
   "metadata": {},
   "source": [
    "# Continuing with the encrypted case, do checkout the \"old_cardio\"(line 36) implementation first, before \"new_cardio\" (line 182)"
   ]
  },
  {
   "cell_type": "markdown",
   "metadata": {},
   "source": [
    "## They are both implementation of cardiovascular risk, but \"old\" and \"new\" refers to date of implementation. \n",
    "## The is syntax of the \"old\" is much more like the plain text example above and thus might easier to read.\n",
    "## The syntax of the \"new\" is arranged in another way to utilize parallelism "
   ]
  },
  {
   "cell_type": "code",
   "execution_count": null,
   "metadata": {},
   "outputs": [],
   "source": []
  }
 ],
 "metadata": {
  "kernelspec": {
   "display_name": "Python 3",
   "language": "python",
   "name": "python3"
  },
  "language_info": {
   "codemirror_mode": {
    "name": "ipython",
    "version": 3
   },
   "file_extension": ".py",
   "mimetype": "text/x-python",
   "name": "python",
   "nbconvert_exporter": "python",
   "pygments_lexer": "ipython3",
   "version": "3.8.10"
  }
 },
 "nbformat": 4,
 "nbformat_minor": 2
}
